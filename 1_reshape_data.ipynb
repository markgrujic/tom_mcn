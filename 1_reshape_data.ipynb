{
 "cells": [
  {
   "attachments": {},
   "cell_type": "markdown",
   "metadata": {},
   "source": [
    "Load required packages"
   ]
  },
  {
   "cell_type": "code",
   "execution_count": null,
   "metadata": {},
   "outputs": [],
   "source": [
    "import numpy as np\n",
    "import pandas as pd\n",
    "import matplotlib.pyplot as plt"
   ]
  },
  {
   "cell_type": "markdown",
   "metadata": {},
   "source": [
    "Read in the data"
   ]
  },
  {
   "cell_type": "code",
   "execution_count": null,
   "metadata": {},
   "outputs": [],
   "source": [
    "raw_data_file = '90deg_50x50_labelled_old.csv'\n",
    "raw_data = pd.read_csv(raw_data_file)\n",
    "print(raw_data.columns)\n",
    "print(raw_data.shape)\n",
    "print(raw_data[:10])"
   ]
  },
  {
   "attachments": {},
   "cell_type": "markdown",
   "metadata": {},
   "source": [
    "Set up parameters"
   ]
  },
  {
   "cell_type": "code",
   "execution_count": null,
   "metadata": {},
   "outputs": [],
   "source": [
    "window = 100\n",
    "step = 50\n",
    "in_threshold = 0.5"
   ]
  },
  {
   "cell_type": "markdown",
   "metadata": {},
   "source": [
    "Get summaries of each window"
   ]
  },
  {
   "cell_type": "code",
   "execution_count": null,
   "metadata": {},
   "outputs": [],
   "source": [
    "\n",
    "# get mean data:\n",
    "df_summary = raw_data[[\"X\", \"Y\", \"GDD_2P67\", \"inside_pol\"]].rolling(window=window, step=step, center=True).mean()\n",
    "\n",
    "# threshold the value\n",
    "df_summary[\"Target\"] = 0 # set up initial column\n",
    "df_summary[\"Target\"] = df_summary.Target.where(df_summary.inside_pol < in_threshold, 1)\n",
    "print(df_summary)"
   ]
  },
  {
   "cell_type": "code",
   "execution_count": null,
   "metadata": {},
   "outputs": [],
   "source": [
    "fig, ax = plt.subplots(figsize=(10, 15))\n",
    "ax.set_aspect(1)\n",
    "\n",
    "plt.scatter(df_summary[\"X\"], df_summary[\"Y\"], c=df_summary[\"Target\"], alpha=0.5)\n",
    "plt.show()"
   ]
  },
  {
   "attachments": {},
   "cell_type": "markdown",
   "metadata": {},
   "source": [
    "Get the window values themselves:"
   ]
  },
  {
   "cell_type": "code",
   "execution_count": null,
   "metadata": {},
   "outputs": [],
   "source": [
    "def rolling_window(array, window_size, freq):\n",
    "    shape = (array.shape[0] - window_size + 1, window_size)\n",
    "    strides = (array.strides[0],) + array.strides\n",
    "    rolled = np.lib.stride_tricks.as_strided(array, shape=shape, strides=strides)\n",
    "    return rolled[np.arange(0,shape[0],freq)]\n",
    "\n",
    "# get the windowed data\n",
    "windowed_data = rolling_window(np.array(raw_data.GDD_2P67), window, step)\n",
    "\n",
    "windowed_data.shape\n"
   ]
  },
  {
   "cell_type": "markdown",
   "metadata": {},
   "source": [
    "join it all together"
   ]
  },
  {
   "cell_type": "code",
   "execution_count": null,
   "metadata": {},
   "outputs": [],
   "source": [
    "# summary data:\n",
    "df_summary = df_summary[df_summary['X'].notna()]\n",
    "df_summary = df_summary.reset_index(drop=True)\n",
    "print(df_summary.shape)\n",
    "\n",
    "# windowed data\n",
    "df_windowed = pd.DataFrame(windowed_data)\n",
    "print(df_windowed.shape)\n",
    "\n",
    "df_training = df_summary.join(df_windowed)\n",
    "df_training.to_csv(\"training_data_{}_{}_{}.csv\".format(window, step, in_threshold))\n",
    "\n"
   ]
  },
  {
   "attachments": {},
   "cell_type": "markdown",
   "metadata": {},
   "source": [
    "## Turn it into a function"
   ]
  },
  {
   "cell_type": "code",
   "execution_count": null,
   "metadata": {},
   "outputs": [],
   "source": [
    "def rolling_window(array, window_size, freq):\n",
    "    shape = (array.shape[0] - window_size + 1, window_size)\n",
    "    strides = (array.strides[0],) + array.strides\n",
    "    rolled = np.lib.stride_tricks.as_strided(array, shape=shape, strides=strides)\n",
    "    return rolled[np.arange(0,shape[0],freq)]\n",
    "\n",
    "def get_training_data(raw_data, window, step, in_threshold):\n",
    "    if len(raw_data) < window:\n",
    "        return\n",
    "    \n",
    "    # get mean data:\n",
    "    df_summary = raw_data[[\"X\", \"Y\", \"GDD_2P67\", \"inside_pol\"]].rolling(window=window, step=step, center=True).mean()\n",
    "\n",
    "    # threshold the value\n",
    "    df_summary[\"Target\"] = 0 # set up initial column\n",
    "    df_summary[\"Target\"] = df_summary.Target.where(df_summary.inside_pol < in_threshold, 1)\n",
    "\n",
    "    # get the windowed data\n",
    "    windowed_data = rolling_window(np.array(raw_data.GDD_2P67), window, step)\n",
    "\n",
    "    # summary data:\n",
    "    df_summary = df_summary[df_summary['X'].notna()]\n",
    "    df_summary = df_summary.reset_index(drop=True)\n",
    "\n",
    "    # windowed data\n",
    "    df_windowed = pd.DataFrame(windowed_data)\n",
    "\n",
    "    # join together\n",
    "    df_training = df_summary.join(df_windowed)\n",
    "    return(df_training)\n"
   ]
  },
  {
   "cell_type": "code",
   "execution_count": null,
   "metadata": {},
   "outputs": [],
   "source": [
    "training_data = get_training_data(raw_data, window=100, step=50, in_threshold=0.5)\n",
    "training_data.head"
   ]
  },
  {
   "cell_type": "code",
   "execution_count": null,
   "metadata": {},
   "outputs": [],
   "source": [
    "fig, ax = plt.subplots(figsize=(10, 15))\n",
    "ax.set_aspect(1)\n",
    "\n",
    "plt.scatter(training_data[\"X\"], training_data[\"Y\"], c=training_data[\"Target\"], alpha=0.5)\n",
    "plt.show()"
   ]
  },
  {
   "attachments": {},
   "cell_type": "markdown",
   "metadata": {},
   "source": [
    "## apply that to lines!"
   ]
  },
  {
   "cell_type": "code",
   "execution_count": null,
   "metadata": {},
   "outputs": [],
   "source": [
    "line_data = raw_data.groupby('Line').apply(lambda x: get_training_data(x, window=100, step=50, in_threshold=0.5))"
   ]
  },
  {
   "cell_type": "code",
   "execution_count": null,
   "metadata": {},
   "outputs": [],
   "source": [
    "fig, ax = plt.subplots(figsize=(10, 15))\n",
    "ax.set_aspect(1)\n",
    "\n",
    "plt.scatter(line_data[\"X\"], line_data[\"Y\"], c=line_data[\"Target\"], alpha=0.5)\n",
    "plt.show()"
   ]
  },
  {
   "cell_type": "markdown",
   "metadata": {},
   "source": [
    "## everything"
   ]
  },
  {
   "cell_type": "code",
   "execution_count": null,
   "metadata": {},
   "outputs": [],
   "source": [
    "\n",
    "def make_data(raw_data_file, window, step, in_threshold):\n",
    "    raw_data = pd.read_csv(raw_data_file)\n",
    "    line_data = raw_data.groupby('Line').apply(lambda x: get_training_data(x, window=window, step=step, in_threshold=in_threshold))\n",
    "    line_data.to_csv(\"{}_{}_{}_{}.csv\".format(raw_data_file, window, step, in_threshold))\n",
    "\n",
    "    fig, ax = plt.subplots(figsize=(10, 15))\n",
    "    ax.set_aspect(1)\n",
    "    plt.scatter(line_data[\"X\"], line_data[\"Y\"], c=line_data[\"Target\"], alpha=0.5)\n",
    "    plt.show()\n",
    "\n"
   ]
  },
  {
   "cell_type": "code",
   "execution_count": null,
   "metadata": {},
   "outputs": [],
   "source": [
    "make_data('90deg_50x50_labelled_old.csv', 100, 10, 0.5)"
   ]
  }
 ],
 "metadata": {
  "kernelspec": {
   "display_name": "tom_mcn",
   "language": "python",
   "name": "python3"
  },
  "language_info": {
   "codemirror_mode": {
    "name": "ipython",
    "version": 3
   },
   "file_extension": ".py",
   "mimetype": "text/x-python",
   "name": "python",
   "nbconvert_exporter": "python",
   "pygments_lexer": "ipython3",
   "version": "3.9.16"
  },
  "orig_nbformat": 4,
  "vscode": {
   "interpreter": {
    "hash": "9b70846b8f0092a139856383d8838faa091f41ffcef887f8913aebf3f64f69df"
   }
  }
 },
 "nbformat": 4,
 "nbformat_minor": 2
}
